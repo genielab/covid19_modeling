{
 "cells": [
  {
   "cell_type": "code",
   "execution_count": 2,
   "metadata": {},
   "outputs": [],
   "source": [
    "import os\n",
    "import sys\n",
    "\n",
    "import pandas as pd\n",
    "import numpy as np\n",
    "\n",
    "import datetime\n",
    "\n",
    "import matplotlib.pyplot as plt\n",
    "import matplotlib\n",
    "import matplotlib.dates as mdates\n",
    "import matplotlib.ticker as ticker\n",
    "\n",
    "import seaborn as sns\n",
    "import statsmodels.api as sm\n",
    "import scipy.optimize as optim\n",
    "\n",
    "from IPython.display import Image\n",
    "\n",
    "import warnings\n",
    "warnings.filterwarnings('ignore')\n",
    "\n",
    "%matplotlib inline\n",
    "\n",
    "# set font size\n",
    "# plt.rcParams['font.size'] = 24\n",
    "# plt.rcParams.update({'figure.figsize': (10, 7), 'figure.dpi': 120, 'font.size':10})\n",
    "\n",
    "%config InlineBackend.figure_format='retina'"
   ]
  },
  {
   "cell_type": "code",
   "execution_count": 4,
   "metadata": {},
   "outputs": [],
   "source": [
    "data_dir = '/Users/genie/data/covid-19/'"
   ]
  },
  {
   "cell_type": "code",
   "execution_count": 5,
   "metadata": {},
   "outputs": [
    {
     "name": "stdout",
     "output_type": "stream",
     "text": [
      "/Users/genie/data/covid-19/.DS_Store\n",
      "/Users/genie/data/covid-19/jhu_time_series_covid19_deaths_global_narrow.csv\n",
      "/Users/genie/data/covid-19/owid-covid-data.csv\n",
      "/Users/genie/data/covid-19/eiu_democracy_indices.csv\n",
      "/Users/genie/data/covid-19/jhu_time_series_covid19_confirmed_global_narrow.csv\n",
      "/Users/genie/data/covid-19/jhu_time_series_covid19_recovered_global_narrow.csv\n",
      "/Users/genie/data/covid-19/us_daily.csv\n"
     ]
    }
   ],
   "source": [
    "for dirname, _, filenames in os.walk(data_dir):\n",
    "    for filename in filenames:\n",
    "        print(os.path.join(dirname, filename))"
   ]
  },
  {
   "cell_type": "code",
   "execution_count": 6,
   "metadata": {},
   "outputs": [
    {
     "name": "stdout",
     "output_type": "stream",
     "text": [
      "CPU times: user 3.77 s, sys: 72.4 ms, total: 3.84 s\n",
      "Wall time: 3 s\n"
     ]
    }
   ],
   "source": [
    "%%time\n",
    "\n",
    "data = pd.read_csv(os.path.join(data_dir,'owid-covid-data.csv'))\n",
    "data = data[data.iso_code.notnull()][['iso_code', 'location', 'date', 'total_cases', 'new_cases',\n",
    "       'total_deaths', 'new_deaths', 'total_tests','new_tests',\n",
    "       'stringency_index', 'population', 'population_density', 'median_age',\n",
    "       'aged_65_older','gdp_per_capita']]\n",
    "data = data.rename(columns={'location':'country_name'})\n",
    "\n",
    "\n",
    "# Merge recoveries data from JHU dataset\n",
    "recovered_df = pd.read_csv(os.path.join(data_dir,'jhu_time_series_covid19_recovered_global_narrow.csv'))\n",
    "recovered_df = recovered_df.rename(columns={'iso_country_code':'iso_code','recovered':'total_recoveries'})\n",
    "recovered_df = recovered_df.groupby(['iso_code','date'])['total_recoveries'].sum().reset_index()\n",
    "recovered_df['date'] = pd.to_datetime(recovered_df['date'])\n",
    "recovered_df['date'] = recovered_df['date'].dt.strftime('%Y-%m-%d')\n",
    "recovered_df['new_recoveries'] = recovered_df['total_recoveries'] - recovered_df.sort_values(by=['date'], ascending=True)\\\n",
    ".groupby(['iso_code'])['total_recoveries'].shift(1)\n",
    "data = pd.merge(data, recovered_df, how='left', on=['iso_code','date'])\n",
    "del recovered_df\n",
    "\n",
    "\n",
    "# Merge democracy indices data\n",
    "eiu_demox = pd.read_csv(os.path.join(data_dir,'eiu_democracy_indices.csv'))\n",
    "eiu_demox = eiu_demox[eiu_demox.year==2019][['iso_code','demox_eiu']]\n",
    "eiu_demox['iso_code'] = eiu_demox['iso_code'].str.upper()\n",
    "data = pd.merge(data, eiu_demox, how='left', on=['iso_code'])\n",
    "del eiu_demox"
   ]
  },
  {
   "cell_type": "code",
   "execution_count": 7,
   "metadata": {},
   "outputs": [],
   "source": [
    "## FEATURES\n",
    "\n",
    "data['tests_per_capita'] = data['total_tests']/data['population']\n",
    "data['tests_per_1000'] = data['total_tests']/(data['population']/1000)\n",
    "data['cases_per_1000'] = data['total_cases']/(data['population']/1000)\n",
    "data['tests_per_confirmed_case'] = data['new_tests']/data['new_cases']\n",
    "\n",
    "data['cpr_daily'] = data['new_cases']/data['new_tests'] * 100\n",
    "data['cpr_total'] = data['total_cases']/data['total_tests'] * 100\n",
    "data['share_of_infected_population '] = data['total_cases']/data['population'] * 100\n",
    "\n",
    "data['cfr_daily'] = data['new_deaths']/data['new_cases'] * 100\n",
    "data['cfr_total'] = data['total_deaths']/data['total_cases'] * 100\n",
    "data['deaths_per_1000'] = data['total_deaths']/(data['population']/1000)\n",
    "\n",
    "data['crr_daily'] = data['new_recoveries']/data['new_cases'] * 100\n",
    "data['crr_total'] = data['total_recoveries']/data['total_cases'] * 100\n",
    "data['recoveries_per_1000'] = data['total_recoveries']/(data['population']/1000)\n",
    "data['recoveries_per_confirmed_case'] = data['new_recoveries']/data['new_cases']\n"
   ]
  },
  {
   "cell_type": "markdown",
   "metadata": {},
   "source": [
    "### Calculate days until first case, days until 1000 cases"
   ]
  },
  {
   "cell_type": "code",
   "execution_count": 8,
   "metadata": {},
   "outputs": [],
   "source": [
    "df = data[(data.iso_code.notnull()) & ~(data.iso_code.isin(['OWID_KOS','OWID_WRL']))].copy()\n",
    "\n",
    "first_case_data = df[df.total_cases > 0].groupby(['iso_code'])['date'].min().reset_index()\n",
    "first_case_data = first_case_data.rename(columns={'date':'first_case_date'})\n",
    "df = pd.merge(df, first_case_data, how='left', on=['iso_code'])\n",
    "\n",
    "# df['days_since_first_case'] = (pd.to_datetime(df['date'])-pd.to_datetime(df['first_case_date'])).dt.days\n",
    "df['days_until_first_case'] = (pd.to_datetime(df['first_case_date'])-pd.to_datetime(df['date'].min())).dt.days\n",
    "\n",
    "cases_1000_data = df[df.total_cases>=1000].groupby(['iso_code'])['date'].min().reset_index()\n",
    "cases_1000_data = cases_1000_data.rename(columns={'date':'cases_1000_date'})\n",
    "df = pd.merge(df, cases_1000_data, how='left', on=['iso_code'])\n",
    "df['days_until_1000_cases'] = (pd.to_datetime(df['cases_1000_date'])-pd.to_datetime(df['first_case_date'])).dt.days\n",
    "\n",
    "df = df[['iso_code','country_name','first_case_date','days_until_first_case','cases_1000_date','days_until_1000_cases']].drop_duplicates()\n",
    "\n",
    "del first_case_data\n",
    "del cases_1000_data"
   ]
  },
  {
   "cell_type": "code",
   "execution_count": null,
   "metadata": {},
   "outputs": [],
   "source": []
  }
 ],
 "metadata": {
  "kernelspec": {
   "display_name": "Python 3",
   "language": "python",
   "name": "python3"
  },
  "language_info": {
   "codemirror_mode": {
    "name": "ipython",
    "version": 3
   },
   "file_extension": ".py",
   "mimetype": "text/x-python",
   "name": "python",
   "nbconvert_exporter": "python",
   "pygments_lexer": "ipython3",
   "version": "3.7.1"
  }
 },
 "nbformat": 4,
 "nbformat_minor": 4
}

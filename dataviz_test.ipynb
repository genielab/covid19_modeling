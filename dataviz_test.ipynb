{
 "cells": [
  {
   "cell_type": "code",
   "execution_count": 1,
   "metadata": {},
   "outputs": [],
   "source": [
    "import pandas as pd\n",
    "import numpy as np\n",
    "\n",
    "import plotly.express as px"
   ]
  },
  {
   "cell_type": "code",
   "execution_count": 2,
   "metadata": {},
   "outputs": [],
   "source": [
    "df = pd.read_csv('/Users/genie/data/covid-19/owid-covid-data.csv')\n",
    "df = df[(df.iso_code.notnull()) & ~(df.iso_code.isin(['OWID_KOS','OWID_WRL']))]\n",
    "df = df.sort_values(by=['date'])\n",
    "df['new_date'] = pd.to_datetime(df['date']).dt.strftime('%Y-%U')\n",
    "\n",
    "# df['new_cases'] = df.mask(df['new_cases'] < 0, np.nan)\n",
    "df['new_cases'] = df.apply(lambda x:x['new_cases'] if x['new_cases'] >=0 else np.nan, axis=1)\n",
    "\n",
    "df_latest = df[df.date == df.date.max()]"
   ]
  },
  {
   "cell_type": "code",
   "execution_count": 3,
   "metadata": {},
   "outputs": [
    {
     "data": {
      "text/plain": [
       "(207, 35)"
      ]
     },
     "execution_count": 3,
     "metadata": {},
     "output_type": "execute_result"
    }
   ],
   "source": [
    "df_latest.shape"
   ]
  },
  {
   "cell_type": "code",
   "execution_count": 4,
   "metadata": {},
   "outputs": [],
   "source": [
    "fig = px.choropleth(df, locations=\"iso_code\",\n",
    "                    color=\"new_cases\",\n",
    "                    hover_name=\"location\",\n",
    "                    animation_frame=\"date\",\n",
    "                    title = \"Daily new COVID cases\",\n",
    "                    color_continuous_scale=px.colors.sequential.OrRd)\n",
    "\n",
    "fig[\"layout\"].pop(\"updatemenus\")\n",
    "# fig.show()\n",
    "fig.write_html(\"file.html\")"
   ]
  },
  {
   "cell_type": "code",
   "execution_count": null,
   "metadata": {},
   "outputs": [],
   "source": []
  }
 ],
 "metadata": {
  "kernelspec": {
   "display_name": "Python 3",
   "language": "python",
   "name": "python3"
  },
  "language_info": {
   "codemirror_mode": {
    "name": "ipython",
    "version": 3
   },
   "file_extension": ".py",
   "mimetype": "text/x-python",
   "name": "python",
   "nbconvert_exporter": "python",
   "pygments_lexer": "ipython3",
   "version": "3.7.8"
  }
 },
 "nbformat": 4,
 "nbformat_minor": 4
}

{
 "cells": [
  {
   "cell_type": "code",
   "execution_count": 1,
   "metadata": {},
   "outputs": [],
   "source": [
    "import pandas as pd\n",
    "import numpy as np\n",
    "\n",
    "import plotly.express as px"
   ]
  },
  {
   "cell_type": "markdown",
   "metadata": {},
   "source": [
    "## Data"
   ]
  },
  {
   "cell_type": "code",
   "execution_count": 2,
   "metadata": {},
   "outputs": [],
   "source": [
    "data = pd.read_csv('/Users/genie/data/covid-19/owid-covid-data.csv')\n",
    "data = data[(data.iso_code.notnull()) & ~(data.iso_code.isin(['OWID_KOS','OWID_WRL']))]\n",
    "data = data.rename(columns={'location':'country_name'})"
   ]
  },
  {
   "cell_type": "markdown",
   "metadata": {},
   "source": [
    "## Data Viz - Daily New cases"
   ]
  },
  {
   "cell_type": "code",
   "execution_count": 3,
   "metadata": {},
   "outputs": [],
   "source": [
    "df = data\n",
    "\n",
    "df = df.sort_values(by=['date'])\n",
    "df['new_cases'] = df.apply(lambda x:x['new_cases'] if x['new_cases'] >=0 else np.nan, axis=1)"
   ]
  },
  {
   "cell_type": "code",
   "execution_count": 4,
   "metadata": {},
   "outputs": [],
   "source": [
    "fig = px.choropleth(df, locations=\"iso_code\",\n",
    "                    color=\"new_cases\",\n",
    "                    hover_name=\"country_name\",\n",
    "                    animation_frame=\"date\",\n",
    "                    title = \"Daily new COVID cases\",\n",
    "                    color_continuous_scale=px.colors.sequential.OrRd)\n",
    "\n",
    "fig[\"layout\"].pop(\"updatemenus\")\n",
    "# fig.show()\n",
    "fig.write_html(\"daily_new_cases.html\")"
   ]
  },
  {
   "cell_type": "markdown",
   "metadata": {},
   "source": [
    "## Data Viz - Time taken for the first case and first 1000 cases"
   ]
  },
  {
   "cell_type": "code",
   "execution_count": 5,
   "metadata": {},
   "outputs": [],
   "source": [
    "df = data[(data.iso_code.notnull()) & ~(data.iso_code.isin(['OWID_KOS','OWID_WRL']))].copy()\n",
    "\n",
    "first_case_data = df[df.total_cases > 0].groupby(['iso_code'])['date'].min().reset_index()\n",
    "first_case_data = first_case_data.rename(columns={'date':'first_case_date'})\n",
    "df = pd.merge(df, first_case_data, how='left', on=['iso_code'])\n",
    "\n",
    "df['days_until_first_case'] = (pd.to_datetime(df['first_case_date'])-pd.to_datetime(df['date'].min())).dt.days\n",
    "\n",
    "cases_1000_data = df[df.total_cases>=1000].groupby(['iso_code'])['date'].min().reset_index()\n",
    "cases_1000_data = cases_1000_data.rename(columns={'date':'cases_1000_date'})\n",
    "df = pd.merge(df, cases_1000_data, how='left', on=['iso_code'])\n",
    "df['days_until_1000_cases'] = (pd.to_datetime(df['cases_1000_date'])-pd.to_datetime(df['first_case_date'])).dt.days\n",
    "\n",
    "df = df[['iso_code','country_name','first_case_date','days_until_first_case','cases_1000_date','days_until_1000_cases']].drop_duplicates()\n",
    "\n",
    "del first_case_data\n",
    "del cases_1000_data"
   ]
  },
  {
   "cell_type": "code",
   "execution_count": 6,
   "metadata": {},
   "outputs": [],
   "source": [
    "fig = px.choropleth(df, locations=\"iso_code\",\n",
    "                    color=\"days_until_first_case\",\n",
    "                    hover_name=\"country_name\",\n",
    "                    title = \"Days until the first reported case\",\n",
    "                    color_continuous_scale='OrRd_r')\n",
    "\n",
    "fig.write_html(\"days_until_first_case.html\")"
   ]
  },
  {
   "cell_type": "code",
   "execution_count": 7,
   "metadata": {},
   "outputs": [],
   "source": [
    "fig = px.choropleth(df, locations=\"iso_code\",\n",
    "                    color=\"days_until_1000_cases\",\n",
    "                    hover_name=\"country_name\",\n",
    "                    title = \"Days until 1000 cases\",\n",
    "                    color_continuous_scale='OrRd_r')\n",
    "\n",
    "fig.write_html(\"days_until_1000_cases.html\")"
   ]
  },
  {
   "cell_type": "code",
   "execution_count": null,
   "metadata": {},
   "outputs": [],
   "source": []
  }
 ],
 "metadata": {
  "kernelspec": {
   "display_name": "Python 3",
   "language": "python",
   "name": "python3"
  },
  "language_info": {
   "codemirror_mode": {
    "name": "ipython",
    "version": 3
   },
   "file_extension": ".py",
   "mimetype": "text/x-python",
   "name": "python",
   "nbconvert_exporter": "python",
   "pygments_lexer": "ipython3",
   "version": "3.7.8"
  }
 },
 "nbformat": 4,
 "nbformat_minor": 4
}
